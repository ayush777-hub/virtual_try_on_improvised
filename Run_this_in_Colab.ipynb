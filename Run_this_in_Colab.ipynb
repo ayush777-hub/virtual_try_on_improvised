{
  "nbformat": 4,
  "nbformat_minor": 0,
  "metadata": {
    "accelerator": "GPU",
    "colab": {
      "name": "Untitled9.ipynb",
      "provenance": [],
      "collapsed_sections": [],
      "mount_file_id": "1TUd7elYBTf_QQcWJ2c029NOFstaZ4ClU",
      "authorship_tag": "ABX9TyNwhxhljB5Kxt9baXFMMwei",
      "include_colab_link": true
    },
    "kernelspec": {
      "display_name": "Python 3",
      "name": "python3"
    },
    "language_info": {
      "name": "python"
    }
  },
  "cells": [
    {
      "cell_type": "markdown",
      "metadata": {
        "id": "view-in-github",
        "colab_type": "text"
      },
      "source": [
        "<a href=\"https://colab.research.google.com/github/ayush777-hub/virtual_try_on_improvised/blob/master/Run_this_in_Colab.ipynb\" target=\"_parent\"><img src=\"https://colab.research.google.com/assets/colab-badge.svg\" alt=\"Open In Colab\"/></a>"
      ]
    },
    {
      "cell_type": "code",
      "metadata": {
        "id": "z2uuwGiGagmV"
      },
      "source": [
        "!pip install torchvision==0.2.0\n",
        "!pip uninstall numpy\n",
        "!pip install numpy==1.16.4\n",
        "!pip install flask_ngrok\n",
        "!pip install tensorflow==1.13.1\n",
        "!pip install cmake==3.12.0\n",
        "!pip install gunicorn==19.4.1\n",
        "!pip install mysql-connector==2.1.7\n",
        "!pip install opencv-contrib-python==3.4.2.17\n",
        "!pip install opencv-python==3.4.2.17"
      ],
      "execution_count": null,
      "outputs": []
    },
    {
      "cell_type": "code",
      "metadata": {
        "id": "QdeW0pqNTJXy"
      },
      "source": [
        "!git clone https://github.com/ayush777-hub/virtual_try_on_improvised.git"
      ],
      "execution_count": null,
      "outputs": []
    },
    {
      "cell_type": "code",
      "metadata": {
        "id": "JiCLiUy4TLuD"
      },
      "source": [
        "!unzip /content/virtual_try_on_improvised/checkpoints/checkpoints.zip"
      ],
      "execution_count": null,
      "outputs": []
    },
    {
      "cell_type": "code",
      "metadata": {
        "id": "6yRT8E2fWke8"
      },
      "source": [
        "!python /content/virtual_try_on_improvised/main.py"
      ],
      "execution_count": null,
      "outputs": []
    },
    {
      "cell_type": "code",
      "metadata": {
        "id": "jIuEqwJJR1DP"
      },
      "source": [
        "!rm -rf /content/checkpoints"
      ],
      "execution_count": 44,
      "outputs": []
    },
    {
      "cell_type": "code",
      "metadata": {
        "id": "quY5B_08Xt_5"
      },
      "source": [
        "!rm -rf /content/virtual_try_on_improvised"
      ],
      "execution_count": 45,
      "outputs": []
    },
    {
      "cell_type": "code",
      "metadata": {
        "id": "-509xR3cEjTf"
      },
      "source": [
        ""
      ],
      "execution_count": null,
      "outputs": []
    }
  ]
}